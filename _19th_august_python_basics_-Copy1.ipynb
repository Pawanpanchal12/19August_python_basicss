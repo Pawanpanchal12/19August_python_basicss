{
 "cells": [
  {
   "cell_type": "markdown",
   "id": "f7ec2a2d",
   "metadata": {},
   "source": [
    "# Python Basics Variables"
   ]
  },
  {
   "cell_type": "markdown",
   "id": "2d460fe8",
   "metadata": {},
   "source": [
    "Q-1 Declare two variables, `x` and `y`, and assign them integer values.\n",
    "Swap the values of these variables without using any temporary\n",
    "variable."
   ]
  },
  {
   "cell_type": "code",
   "execution_count": 17,
   "id": "37355e98",
   "metadata": {},
   "outputs": [],
   "source": [
    "#Ans-1\n",
    "x=20         #first variable\n",
    "y=25         #second variable\n",
    "#Now code to swap x & y\n",
    "x=x+y            #x=20+25 =45\n",
    "y=x-y            #y=45-25 =20\n",
    "x=x-y            #x=45-20 =25"
   ]
  },
  {
   "cell_type": "code",
   "execution_count": 18,
   "id": "19cae337",
   "metadata": {},
   "outputs": [
    {
     "data": {
      "text/plain": [
       "25"
      ]
     },
     "execution_count": 18,
     "metadata": {},
     "output_type": "execute_result"
    }
   ],
   "source": [
    "x"
   ]
  },
  {
   "cell_type": "code",
   "execution_count": 19,
   "id": "c9356973",
   "metadata": {},
   "outputs": [
    {
     "data": {
      "text/plain": [
       "20"
      ]
     },
     "execution_count": 19,
     "metadata": {},
     "output_type": "execute_result"
    }
   ],
   "source": [
    "y"
   ]
  },
  {
   "cell_type": "markdown",
   "id": "107dcde4",
   "metadata": {},
   "source": [
    "Explanation - Now we can check value of \"x\"=25,\"y\"=20."
   ]
  },
  {
   "cell_type": "markdown",
   "id": "fb239fbb",
   "metadata": {},
   "source": [
    "Q2-Create a program that calculates the area of a rectangle. Take the\n",
    "length and width as inputs from the user and store them in variables.\n",
    "Calculate and display the area."
   ]
  },
  {
   "cell_type": "code",
   "execution_count": 20,
   "id": "eda289e8",
   "metadata": {},
   "outputs": [
    {
     "name": "stdout",
     "output_type": "stream",
     "text": [
      "Enter value of width20\n",
      "Enter value of length40\n",
      "Area of rectangle 800.0\n"
     ]
    }
   ],
   "source": [
    "#Ans-2\n",
    "#Formula to calculate area of rectangle is Width*Length\n",
    "\n",
    "width=float(input(\"Enter value of width\"))      #Taking input (width) from user\n",
    "length=float(input(\"Enter value of length\"))    #Taking input (length)from user\n",
    "\n",
    "area=width*length                               #Area of rectangle \n",
    "print(\"Area of rectangle\",area)                 #Printing the output"
   ]
  },
  {
   "cell_type": "markdown",
   "id": "1064d133",
   "metadata": {},
   "source": [
    "Explanation - In this programme user will give input as width and length. And will get output as area of rectangle"
   ]
  },
  {
   "cell_type": "markdown",
   "id": "3eb02730",
   "metadata": {},
   "source": [
    "Q-3  Write a Python program that converts temperature from Celsius to\n",
    "Fahrenheit. Take the temperature in Celsius as input, store it in a\n",
    "variable, convert it to Fahrenheit, and display the result."
   ]
  },
  {
   "cell_type": "code",
   "execution_count": 23,
   "id": "25cc841e",
   "metadata": {},
   "outputs": [
    {
     "name": "stdout",
     "output_type": "stream",
     "text": [
      "Enter temp in celsius20\n",
      "your temp  in Fahrenheit is  68.0\n"
     ]
    }
   ],
   "source": [
    "#Ans-3\n",
    "#Formula to convert temp from Celcius to Fahrenheit is (celsius*1.8)+32\n",
    "\n",
    "celsius=float(input(\"Enter temp in celsius\"))           #Creating variable to take input from user\n",
    "\n",
    "Fahrenheit= (celsius*1.8)+32                            #Formula for conversion\n",
    "\n",
    "print(\"your temp  in Fahrenheit is \",Fahrenheit)        #Printing the output"
   ]
  },
  {
   "cell_type": "markdown",
   "id": "9485e6c8",
   "metadata": {},
   "source": [
    "# String Based Questions"
   ]
  },
  {
   "cell_type": "markdown",
   "id": "9b2d0e58",
   "metadata": {},
   "source": [
    "Q-1 Write a Python program that takes a string as input and prints the\n",
    "length of the string."
   ]
  },
  {
   "cell_type": "code",
   "execution_count": 27,
   "id": "33e7e6b3",
   "metadata": {},
   "outputs": [
    {
     "name": "stdout",
     "output_type": "stream",
     "text": [
      "Your entered string is Pawan\n",
      "Length of enterd string is  5\n"
     ]
    }
   ],
   "source": [
    "#Ans-1\n",
    "\n",
    "User_String = str(input(\"Your entered string is = \"))         #Taking input from user as string and. storing in a variable(User_String)\n",
    "\n",
    "length=len(User_String)                                      #Calculating length of string and storing in a variable\n",
    "\n",
    "print(\"Length of enterd string is \",length)                 #Here printing the output \n"
   ]
  },
  {
   "cell_type": "markdown",
   "id": "8c9cc3a7",
   "metadata": {},
   "source": [
    "Q-2 Create a program that takes a sentence from the user and counts the\n",
    "number of vowels (a, e, i, o, u) in the string."
   ]
  },
  {
   "cell_type": "code",
   "execution_count": 33,
   "id": "8c27d03f",
   "metadata": {},
   "outputs": [
    {
     "name": "stdout",
     "output_type": "stream",
     "text": [
      "Your enterd string is = PAWAB\n",
      "Number of vowels are = 2\n"
     ]
    }
   ],
   "source": [
    "#Ans-2 \n",
    "user_input=str(input(\"Your enterd string is = \"))        #Taking string input from user\n",
    "vowels=0\n",
    "\n",
    "for i in user_input:                                     #Using for loop that will iterate\n",
    "    if(i==\"a\"or i==\"e\" or i==\"o\" or i==\"i\" or i==\"u\" or i==\"A\"or i==\"E\" or i==\"I\" or i==\"O\" or i==\"U\" ):\n",
    "        vowels=vowels+1                                  #Calculate number of vowels\n",
    "    \n",
    "print(\"Number of vowels are =\",vowels)                   #Printing outout of programme\n",
    "\n",
    "        \n",
    "            \n"
   ]
  },
  {
   "cell_type": "markdown",
   "id": "f376214e",
   "metadata": {},
   "source": [
    "Q-3 Given a string, reverse the order of characters using string slicing and\n",
    "print the reversed string."
   ]
  },
  {
   "cell_type": "code",
   "execution_count": 37,
   "id": "373b2ef3",
   "metadata": {},
   "outputs": [
    {
     "name": "stdout",
     "output_type": "stream",
     "text": [
      "Your reversed string is =  lahcnaPnawaP\n"
     ]
    }
   ],
   "source": [
    "#Ans-3\n",
    "\n",
    "string=\"PawanPanchal\"                    #String is given\n",
    "reverse_string=string[::-1]              #Used slicing for reverse string\n",
    "\n",
    "print(\"Your reversed string is = \",reverse_string)      #Printing output\n"
   ]
  },
  {
   "cell_type": "markdown",
   "id": "05dcb08a",
   "metadata": {},
   "source": [
    "Q-4 4. Write a program that takes a string as input and checks if it is a\n",
    "palindrome (reads the same forwards and backwards)."
   ]
  },
  {
   "cell_type": "code",
   "execution_count": 38,
   "id": "4c37d7e3",
   "metadata": {},
   "outputs": [
    {
     "name": "stdout",
     "output_type": "stream",
     "text": [
      "Your string is= Pawan\n",
      "It is not Palindrome\n"
     ]
    }
   ],
   "source": [
    "#Ans-4\n",
    "\n",
    "U_input=str(input(\"Your string is= \"))                   #Taking input from user\n",
    "palindrome= \" \"\n",
    "\n",
    "for i in U_input:                                        #using for loop\n",
    "    U_input+palindrome\n",
    "    \n",
    "if (U_input==palindrome):                                #Using if-else statements \n",
    "    print(\"Yes it is Palindrome\")\n",
    "else:\n",
    "    print(\"It is not Palindrome\")                     \n",
    "    "
   ]
  },
  {
   "cell_type": "markdown",
   "id": "345ce79f",
   "metadata": {},
   "source": [
    "Q-5 Create a program that takes a string as input and removes all the\n",
    "spaces from it. Print the modified string without spaces."
   ]
  },
  {
   "cell_type": "code",
   "execution_count": 59,
   "id": "8eb61b8a",
   "metadata": {},
   "outputs": [
    {
     "name": "stdout",
     "output_type": "stream",
     "text": [
      "p a w a n k\n",
      "string with spaces is p a w a n k\n",
      "string without spaces is pawank\n"
     ]
    }
   ],
   "source": [
    "#Ans-5\n",
    "#For the remove whitespaces we will count the length of string then count whitespaces and replace the whitespaces.\n",
    "str_input= str(input(\"\"))\n",
    " \n",
    "print(\"string with spaces is\", str_input)\n",
    " \n",
    "length = len(str_input)                          # calculating length of string\n",
    " \n",
    "c = str_input.count(' ')                        # Counting whitespaces\n",
    " \n",
    "s = str_input.replace(' ', '')                 # replacing whitespaces\n",
    " \n",
    "                            \n",
    " \n",
    "print(\"string without spaces is\", s)"
   ]
  }
 ],
 "metadata": {
  "kernelspec": {
   "display_name": "Python 3 (ipykernel)",
   "language": "python",
   "name": "python3"
  },
  "language_info": {
   "codemirror_mode": {
    "name": "ipython",
    "version": 3
   },
   "file_extension": ".py",
   "mimetype": "text/x-python",
   "name": "python",
   "nbconvert_exporter": "python",
   "pygments_lexer": "ipython3",
   "version": "3.11.4"
  }
 },
 "nbformat": 4,
 "nbformat_minor": 5
}
